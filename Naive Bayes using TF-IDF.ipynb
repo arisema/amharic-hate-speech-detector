{
 "cells": [
  {
   "cell_type": "markdown",
   "metadata": {},
   "source": [
    "# Amharic Hate Speech Detector using Naive Bayes"
   ]
  },
  {
   "cell_type": "markdown",
   "metadata": {},
   "source": [
    "## Preprocessing"
   ]
  },
  {
   "cell_type": "markdown",
   "metadata": {},
   "source": [
    "### Importing Dataset"
   ]
  },
  {
   "cell_type": "code",
   "execution_count": 1,
   "metadata": {},
   "outputs": [],
   "source": [
    "import re\n",
    "import math\n",
    "import pandas\n",
    "import string\n",
    "import matplotlib.pyplot as plt\n",
    "from sklearn.utils import shuffle\n",
    "from sklearn.model_selection import train_test_split"
   ]
  },
  {
   "cell_type": "code",
   "execution_count": 2,
   "metadata": {},
   "outputs": [],
   "source": [
    "%matplotlib inline"
   ]
  },
  {
   "cell_type": "code",
   "execution_count": 3,
   "metadata": {},
   "outputs": [
    {
     "data": {
      "text/html": [
       "<div>\n",
       "<style scoped>\n",
       "    .dataframe tbody tr th:only-of-type {\n",
       "        vertical-align: middle;\n",
       "    }\n",
       "\n",
       "    .dataframe tbody tr th {\n",
       "        vertical-align: top;\n",
       "    }\n",
       "\n",
       "    .dataframe thead th {\n",
       "        text-align: right;\n",
       "    }\n",
       "</style>\n",
       "<table border=\"1\" class=\"dataframe\">\n",
       "  <thead>\n",
       "    <tr style=\"text-align: right;\">\n",
       "      <th></th>\n",
       "      <th>Comment No.</th>\n",
       "      <th>0</th>\n",
       "      <th>Comment</th>\n",
       "      <th>Like</th>\n",
       "      <th>(view source)</th>\n",
       "      <th>Timestamp</th>\n",
       "    </tr>\n",
       "  </thead>\n",
       "  <tbody>\n",
       "    <tr>\n",
       "      <th>2577</th>\n",
       "      <td>NaN</td>\n",
       "      <td>0.0</td>\n",
       "      <td>Mikir Amhara ሲጀመር ፋኖ እና ኣማራ ኣንድ ኣታድርጋቸው፡ ኣማራ ት...</td>\n",
       "      <td>0</td>\n",
       "      <td>view comment</td>\n",
       "      <td>Saturday, April 11, 2020 9:50pm GMT</td>\n",
       "    </tr>\n",
       "    <tr>\n",
       "      <th>2601</th>\n",
       "      <td>23.0</td>\n",
       "      <td>0.0</td>\n",
       "      <td>ጅቡቲ ኣስመላሽ ኮሚቴ ይቋቋምልን</td>\n",
       "      <td>1</td>\n",
       "      <td>view comment</td>\n",
       "      <td>Saturday, April 11, 2020 3:48pm GMT</td>\n",
       "    </tr>\n",
       "    <tr>\n",
       "      <th>1665</th>\n",
       "      <td>NaN</td>\n",
       "      <td>0.0</td>\n",
       "      <td>Haara Bikila ዋናው እንስሳ'ማ የተሰራው ነገር ችግር እንዳለበት እ...</td>\n",
       "      <td>6</td>\n",
       "      <td>view comment</td>\n",
       "      <td>Wednesday, April 22, 2020 11:23am GMT</td>\n",
       "    </tr>\n",
       "    <tr>\n",
       "      <th>133</th>\n",
       "      <td>NaN</td>\n",
       "      <td>0.0</td>\n",
       "      <td>Elshaday Geta አንተ ፍጤ ሴትዮህን ያዝልኝ...ሆሆሆ በዚ ማታ ከአ...</td>\n",
       "      <td>0</td>\n",
       "      <td>view comment</td>\n",
       "      <td>Tuesday, April 21, 2020 8:16pm GMT</td>\n",
       "    </tr>\n",
       "    <tr>\n",
       "      <th>3398</th>\n",
       "      <td>NaN</td>\n",
       "      <td>0.0</td>\n",
       "      <td>Yefat Yefat forget it I don't care about that,...</td>\n",
       "      <td>0</td>\n",
       "      <td>view comment</td>\n",
       "      <td>Sunday, April 19, 2020 1:57pm GMT</td>\n",
       "    </tr>\n",
       "  </tbody>\n",
       "</table>\n",
       "</div>"
      ],
      "text/plain": [
       "      Comment No.    0                                            Comment  \\\n",
       "2577          NaN  0.0  Mikir Amhara ሲጀመር ፋኖ እና ኣማራ ኣንድ ኣታድርጋቸው፡ ኣማራ ት...   \n",
       "2601         23.0  0.0                               ጅቡቲ ኣስመላሽ ኮሚቴ ይቋቋምልን   \n",
       "1665          NaN  0.0  Haara Bikila ዋናው እንስሳ'ማ የተሰራው ነገር ችግር እንዳለበት እ...   \n",
       "133           NaN  0.0  Elshaday Geta አንተ ፍጤ ሴትዮህን ያዝልኝ...ሆሆሆ በዚ ማታ ከአ...   \n",
       "3398          NaN  0.0  Yefat Yefat forget it I don't care about that,...   \n",
       "\n",
       "      Like (view source)                              Timestamp  \n",
       "2577     0  view comment    Saturday, April 11, 2020 9:50pm GMT  \n",
       "2601     1  view comment    Saturday, April 11, 2020 3:48pm GMT  \n",
       "1665     6  view comment  Wednesday, April 22, 2020 11:23am GMT  \n",
       "133      0  view comment     Tuesday, April 21, 2020 8:16pm GMT  \n",
       "3398     0  view comment      Sunday, April 19, 2020 1:57pm GMT  "
      ]
     },
     "execution_count": 3,
     "metadata": {},
     "output_type": "execute_result"
    }
   ],
   "source": [
    "DATASET_FILEPATH = \"datasets/dataset.xls\"\n",
    "raw_data = pandas.read_excel(DATASET_FILEPATH, sheet_name='sheet')\n",
    "\n",
    "raw_data = shuffle(raw_data)\n",
    "raw_data.head()"
   ]
  },
  {
   "cell_type": "markdown",
   "metadata": {},
   "source": [
    "### Extracting Data"
   ]
  },
  {
   "cell_type": "code",
   "execution_count": 4,
   "metadata": {},
   "outputs": [],
   "source": [
    "labels = raw_data.iloc[:, 1]\n",
    "comments = raw_data.iloc[:, 2]"
   ]
  },
  {
   "cell_type": "markdown",
   "metadata": {},
   "source": [
    "### Remove Alphabets"
   ]
  },
  {
   "cell_type": "code",
   "execution_count": 5,
   "metadata": {
    "scrolled": true
   },
   "outputs": [],
   "source": [
    "comments = [re.sub(r\"[A-Za-z]\", \"\", str(comment)) for comment in comments]"
   ]
  },
  {
   "cell_type": "markdown",
   "metadata": {},
   "source": [
    "### Remove Numbers"
   ]
  },
  {
   "cell_type": "code",
   "execution_count": 6,
   "metadata": {},
   "outputs": [],
   "source": [
    "comments = [re.sub('[0-9]', \"\", str(comment)) for comment in comments]"
   ]
  },
  {
   "cell_type": "markdown",
   "metadata": {},
   "source": [
    "### Remove Punctuations"
   ]
  },
  {
   "cell_type": "code",
   "execution_count": 7,
   "metadata": {},
   "outputs": [],
   "source": [
    "punctuations = \"!\\\"#$%&'()*+,-./:;<=>?@[\\]^_`{|}~፡።፣፥¡\"\n",
    "comments = [str(comment).translate(str.maketrans('', '', punctuations)) for comment in comments]"
   ]
  },
  {
   "cell_type": "markdown",
   "metadata": {},
   "source": [
    "### Remove Whitespaces"
   ]
  },
  {
   "cell_type": "code",
   "execution_count": 8,
   "metadata": {},
   "outputs": [],
   "source": [
    "comments = [(\" \".join([ word for word in str(comment).split()])) for comment in comments]"
   ]
  },
  {
   "cell_type": "markdown",
   "metadata": {},
   "source": [
    "### Remove Empty Comments"
   ]
  },
  {
   "cell_type": "code",
   "execution_count": 9,
   "metadata": {},
   "outputs": [],
   "source": [
    "X = []\n",
    "Y = []\n",
    "\n",
    "number_of_comments = len(comments)\n",
    "for i in range(number_of_comments):\n",
    "    if comments[i].strip() and not math.isnan(float(labels[i])):\n",
    "        X.append(comments[i])\n",
    "        Y.append(labels[i])"
   ]
  },
  {
   "cell_type": "markdown",
   "metadata": {},
   "source": [
    "## TF-IDF Encoding"
   ]
  },
  {
   "cell_type": "code",
   "execution_count": 10,
   "metadata": {},
   "outputs": [],
   "source": [
    "from sklearn.feature_extraction.text import TfidfVectorizer"
   ]
  },
  {
   "cell_type": "code",
   "execution_count": 11,
   "metadata": {},
   "outputs": [],
   "source": [
    "tfidf_vectorizer = TfidfVectorizer(max_features=500, min_df=5, max_df=0.7)\n",
    "X = tfidf_vectorizer.fit_transform(X).toarray()"
   ]
  },
  {
   "cell_type": "code",
   "execution_count": 12,
   "metadata": {},
   "outputs": [
    {
     "name": "stdout",
     "output_type": "stream",
     "text": [
      "Training Dataset Shape:  (2480, 500)\n",
      "Training Label Shape:  2480\n"
     ]
    }
   ],
   "source": [
    "print(\"Training Dataset Shape: \", X.shape)\n",
    "print(\"Training Label Shape: \", len(Y))"
   ]
  },
  {
   "cell_type": "markdown",
   "metadata": {},
   "source": [
    "## Split Dataset"
   ]
  },
  {
   "cell_type": "code",
   "execution_count": 13,
   "metadata": {},
   "outputs": [],
   "source": [
    "X_train, X_test, Y_train, Y_test = train_test_split(X, Y, test_size=0.2)"
   ]
  },
  {
   "cell_type": "code",
   "execution_count": 14,
   "metadata": {},
   "outputs": [
    {
     "name": "stdout",
     "output_type": "stream",
     "text": [
      "X_train Shape:  (1984, 500)\n",
      "X_test Shape:  (496, 500)\n"
     ]
    }
   ],
   "source": [
    "print(\"X_train Shape: \", X_train.shape)\n",
    "print(\"X_test Shape: \", X_test.shape)"
   ]
  },
  {
   "cell_type": "code",
   "execution_count": 15,
   "metadata": {},
   "outputs": [
    {
     "name": "stdout",
     "output_type": "stream",
     "text": [
      "Y_train Shape:  1984\n",
      "Y_test Shape:  496\n"
     ]
    }
   ],
   "source": [
    "print(\"Y_train Shape: \", len(Y_train))\n",
    "print(\"Y_test Shape: \", len(Y_test))"
   ]
  },
  {
   "cell_type": "markdown",
   "metadata": {},
   "source": [
    "## Naive Bayes"
   ]
  },
  {
   "cell_type": "code",
   "execution_count": 16,
   "metadata": {},
   "outputs": [],
   "source": [
    "from sklearn.naive_bayes import GaussianNB"
   ]
  },
  {
   "cell_type": "code",
   "execution_count": 17,
   "metadata": {},
   "outputs": [
    {
     "data": {
      "text/plain": [
       "GaussianNB(priors=None, var_smoothing=1e-09)"
      ]
     },
     "execution_count": 17,
     "metadata": {},
     "output_type": "execute_result"
    }
   ],
   "source": [
    "classifier = GaussianNB()\n",
    "classifier.fit(X_train, Y_train) "
   ]
  },
  {
   "cell_type": "markdown",
   "metadata": {},
   "source": [
    "## Evaluate Model"
   ]
  },
  {
   "cell_type": "code",
   "execution_count": 18,
   "metadata": {},
   "outputs": [],
   "source": [
    "from sklearn.metrics import classification_report, confusion_matrix, accuracy_score"
   ]
  },
  {
   "cell_type": "code",
   "execution_count": 19,
   "metadata": {},
   "outputs": [],
   "source": [
    "Y_pred = classifier.predict(X_test)"
   ]
  },
  {
   "cell_type": "markdown",
   "metadata": {},
   "source": [
    "### Confusion Matrix"
   ]
  },
  {
   "cell_type": "code",
   "execution_count": 20,
   "metadata": {},
   "outputs": [
    {
     "name": "stdout",
     "output_type": "stream",
     "text": [
      "[[313 166]\n",
      " [ 10   7]]\n"
     ]
    }
   ],
   "source": [
    "print(confusion_matrix(Y_test, Y_pred))"
   ]
  },
  {
   "cell_type": "markdown",
   "metadata": {},
   "source": [
    "### Classification Report"
   ]
  },
  {
   "cell_type": "code",
   "execution_count": 21,
   "metadata": {},
   "outputs": [
    {
     "name": "stdout",
     "output_type": "stream",
     "text": [
      "              precision    recall  f1-score   support\n",
      "\n",
      "         0.0       0.97      0.65      0.78       479\n",
      "         1.0       0.04      0.41      0.07        17\n",
      "\n",
      "    accuracy                           0.65       496\n",
      "   macro avg       0.50      0.53      0.43       496\n",
      "weighted avg       0.94      0.65      0.76       496\n",
      "\n"
     ]
    }
   ],
   "source": [
    "print(classification_report(Y_test, Y_pred))"
   ]
  },
  {
   "cell_type": "markdown",
   "metadata": {},
   "source": [
    "### Accuracy Score"
   ]
  },
  {
   "cell_type": "code",
   "execution_count": 22,
   "metadata": {},
   "outputs": [
    {
     "name": "stdout",
     "output_type": "stream",
     "text": [
      "0.6451612903225806\n"
     ]
    }
   ],
   "source": [
    "print(accuracy_score(Y_test, Y_pred))"
   ]
  }
 ],
 "metadata": {
  "kernelspec": {
   "display_name": "Python 3",
   "language": "python",
   "name": "python3"
  },
  "language_info": {
   "codemirror_mode": {
    "name": "ipython",
    "version": 3
   },
   "file_extension": ".py",
   "mimetype": "text/x-python",
   "name": "python",
   "nbconvert_exporter": "python",
   "pygments_lexer": "ipython3",
   "version": "3.8.2"
  }
 },
 "nbformat": 4,
 "nbformat_minor": 4
}
