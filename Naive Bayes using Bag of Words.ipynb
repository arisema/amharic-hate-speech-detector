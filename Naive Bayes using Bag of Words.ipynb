{
 "cells": [
  {
   "cell_type": "markdown",
   "metadata": {},
   "source": [
    "# Amharic Hate Speech Detector using Naive Bayes"
   ]
  },
  {
   "cell_type": "markdown",
   "metadata": {},
   "source": [
    "## Preprocessing"
   ]
  },
  {
   "cell_type": "markdown",
   "metadata": {},
   "source": [
    "### Importing Dataset"
   ]
  },
  {
   "cell_type": "code",
   "execution_count": 1,
   "metadata": {},
   "outputs": [],
   "source": [
    "import re\n",
    "import math\n",
    "import pandas\n",
    "import string\n",
    "import matplotlib.pyplot as plt\n",
    "from sklearn.utils import shuffle\n",
    "from sklearn.model_selection import train_test_split"
   ]
  },
  {
   "cell_type": "code",
   "execution_count": 2,
   "metadata": {},
   "outputs": [],
   "source": [
    "%matplotlib inline"
   ]
  },
  {
   "cell_type": "code",
   "execution_count": 3,
   "metadata": {},
   "outputs": [
    {
     "data": {
      "text/html": [
       "<div>\n",
       "<style scoped>\n",
       "    .dataframe tbody tr th:only-of-type {\n",
       "        vertical-align: middle;\n",
       "    }\n",
       "\n",
       "    .dataframe tbody tr th {\n",
       "        vertical-align: top;\n",
       "    }\n",
       "\n",
       "    .dataframe thead th {\n",
       "        text-align: right;\n",
       "    }\n",
       "</style>\n",
       "<table border=\"1\" class=\"dataframe\">\n",
       "  <thead>\n",
       "    <tr style=\"text-align: right;\">\n",
       "      <th></th>\n",
       "      <th>Comment No.</th>\n",
       "      <th>0</th>\n",
       "      <th>Comment</th>\n",
       "      <th>Like</th>\n",
       "      <th>(view source)</th>\n",
       "      <th>Timestamp</th>\n",
       "    </tr>\n",
       "  </thead>\n",
       "  <tbody>\n",
       "    <tr>\n",
       "      <th>2896</th>\n",
       "      <td>66.0</td>\n",
       "      <td>0.0</td>\n",
       "      <td>ሙድ አለመሆኑ ነው?</td>\n",
       "      <td>0</td>\n",
       "      <td>view comment</td>\n",
       "      <td>Tuesday, April 28, 2020 11:17am GMT</td>\n",
       "    </tr>\n",
       "    <tr>\n",
       "      <th>1929</th>\n",
       "      <td>74.0</td>\n",
       "      <td>0.0</td>\n",
       "      <td>ዛሬ በትግራይ ጤና ምርምር ተቋም(THRI) የኮሮና ምርመራ የተደረገባቸው ...</td>\n",
       "      <td>0</td>\n",
       "      <td>view comment</td>\n",
       "      <td>Sunday, April 12, 2020 2:09pm GMT</td>\n",
       "    </tr>\n",
       "    <tr>\n",
       "      <th>420</th>\n",
       "      <td>NaN</td>\n",
       "      <td>0.0</td>\n",
       "      <td>Tigray Ethiopia እኔ ገፅ ላይ የሰው ስም አታጥፋ</td>\n",
       "      <td>2</td>\n",
       "      <td>view comment</td>\n",
       "      <td>Saturday, April 4, 2020 1:20pm GMT</td>\n",
       "    </tr>\n",
       "    <tr>\n",
       "      <th>2105</th>\n",
       "      <td>47.0</td>\n",
       "      <td>0.0</td>\n",
       "      <td>ታድለናል ሁሉም የኛ!! ኦ እግዚአብሔር እስከ መቼ ነው ከነዚህ ጋር ተጣብ...</td>\n",
       "      <td>0</td>\n",
       "      <td>view comment</td>\n",
       "      <td>Saturday, April 25, 2020 1:34pm GMT</td>\n",
       "    </tr>\n",
       "    <tr>\n",
       "      <th>2869</th>\n",
       "      <td>42.0</td>\n",
       "      <td>0.0</td>\n",
       "      <td>ንጉስ ሆይ ሺ አመት ንገስልን ፡ best miracle of the era.</td>\n",
       "      <td>0</td>\n",
       "      <td>view comment</td>\n",
       "      <td>Tuesday, April 28, 2020 3:51am GMT</td>\n",
       "    </tr>\n",
       "  </tbody>\n",
       "</table>\n",
       "</div>"
      ],
      "text/plain": [
       "      Comment No.    0                                            Comment  \\\n",
       "2896         66.0  0.0                                       ሙድ አለመሆኑ ነው?   \n",
       "1929         74.0  0.0  ዛሬ በትግራይ ጤና ምርምር ተቋም(THRI) የኮሮና ምርመራ የተደረገባቸው ...   \n",
       "420           NaN  0.0               Tigray Ethiopia እኔ ገፅ ላይ የሰው ስም አታጥፋ   \n",
       "2105         47.0  0.0  ታድለናል ሁሉም የኛ!! ኦ እግዚአብሔር እስከ መቼ ነው ከነዚህ ጋር ተጣብ...   \n",
       "2869         42.0  0.0      ንጉስ ሆይ ሺ አመት ንገስልን ፡ best miracle of the era.   \n",
       "\n",
       "      Like (view source)                            Timestamp  \n",
       "2896     0  view comment  Tuesday, April 28, 2020 11:17am GMT  \n",
       "1929     0  view comment    Sunday, April 12, 2020 2:09pm GMT  \n",
       "420      2  view comment   Saturday, April 4, 2020 1:20pm GMT  \n",
       "2105     0  view comment  Saturday, April 25, 2020 1:34pm GMT  \n",
       "2869     0  view comment   Tuesday, April 28, 2020 3:51am GMT  "
      ]
     },
     "execution_count": 3,
     "metadata": {},
     "output_type": "execute_result"
    }
   ],
   "source": [
    "DATASET_FILEPATH = \"datasets/dataset.xls\"\n",
    "raw_data = pandas.read_excel(DATASET_FILEPATH, sheet_name='sheet')\n",
    "\n",
    "raw_data = shuffle(raw_data)\n",
    "raw_data.head()"
   ]
  },
  {
   "cell_type": "markdown",
   "metadata": {},
   "source": [
    "### Extracting Data"
   ]
  },
  {
   "cell_type": "code",
   "execution_count": 4,
   "metadata": {},
   "outputs": [],
   "source": [
    "labels = raw_data.iloc[:, 1]\n",
    "comments = raw_data.iloc[:, 2]"
   ]
  },
  {
   "cell_type": "markdown",
   "metadata": {},
   "source": [
    "### Remove Alphabets"
   ]
  },
  {
   "cell_type": "code",
   "execution_count": 5,
   "metadata": {
    "scrolled": true
   },
   "outputs": [],
   "source": [
    "comments = [re.sub(r\"[A-Za-z]\", \"\", str(comment)) for comment in comments]"
   ]
  },
  {
   "cell_type": "markdown",
   "metadata": {},
   "source": [
    "### Remove Numbers"
   ]
  },
  {
   "cell_type": "code",
   "execution_count": 6,
   "metadata": {},
   "outputs": [],
   "source": [
    "comments = [re.sub('[0-9]', \"\", str(comment)) for comment in comments]"
   ]
  },
  {
   "cell_type": "markdown",
   "metadata": {},
   "source": [
    "### Remove Punctuations"
   ]
  },
  {
   "cell_type": "code",
   "execution_count": 7,
   "metadata": {},
   "outputs": [],
   "source": [
    "punctuations = \"!\\\"#$%&'()*+,-./:;<=>?@[\\]^_`{|}~፡።፣፥¡\"\n",
    "comments = [str(comment).translate(str.maketrans('', '', punctuations)) for comment in comments]"
   ]
  },
  {
   "cell_type": "markdown",
   "metadata": {},
   "source": [
    "### Remove Whitespaces"
   ]
  },
  {
   "cell_type": "code",
   "execution_count": 8,
   "metadata": {},
   "outputs": [],
   "source": [
    "comments = [(\" \".join([ word for word in str(comment).split()])) for comment in comments]"
   ]
  },
  {
   "cell_type": "markdown",
   "metadata": {},
   "source": [
    "### Remove Empty Comments"
   ]
  },
  {
   "cell_type": "code",
   "execution_count": 9,
   "metadata": {},
   "outputs": [],
   "source": [
    "X = []\n",
    "Y = []\n",
    "\n",
    "number_of_comments = len(comments)\n",
    "for i in range(number_of_comments):\n",
    "    if comments[i].strip() and not math.isnan(float(labels[i])):\n",
    "        X.append(comments[i])\n",
    "        Y.append(labels[i])"
   ]
  },
  {
   "cell_type": "markdown",
   "metadata": {},
   "source": [
    "## Bag of Words Encoding"
   ]
  },
  {
   "cell_type": "code",
   "execution_count": 10,
   "metadata": {},
   "outputs": [],
   "source": [
    "from sklearn.feature_extraction.text import CountVectorizer"
   ]
  },
  {
   "cell_type": "code",
   "execution_count": 11,
   "metadata": {},
   "outputs": [],
   "source": [
    "count_vectorizer = CountVectorizer(max_features=1000, min_df=5, max_df=0.7)\n",
    "X = count_vectorizer.fit_transform(X).toarray()"
   ]
  },
  {
   "cell_type": "code",
   "execution_count": 12,
   "metadata": {},
   "outputs": [
    {
     "name": "stdout",
     "output_type": "stream",
     "text": [
      "Training Dataset Shape:  (2488, 576)\n",
      "Training Label Shape:  2488\n"
     ]
    }
   ],
   "source": [
    "print(\"Training Dataset Shape: \", X.shape)\n",
    "print(\"Training Label Shape: \", len(Y))"
   ]
  },
  {
   "cell_type": "markdown",
   "metadata": {},
   "source": [
    "## Split Dataset"
   ]
  },
  {
   "cell_type": "code",
   "execution_count": 13,
   "metadata": {},
   "outputs": [],
   "source": [
    "X_train, X_test, Y_train, Y_test = train_test_split(X, Y, test_size=0.2)"
   ]
  },
  {
   "cell_type": "code",
   "execution_count": 14,
   "metadata": {},
   "outputs": [
    {
     "name": "stdout",
     "output_type": "stream",
     "text": [
      "X_train Shape:  (1990, 576)\n",
      "X_test Shape:  (498, 576)\n"
     ]
    }
   ],
   "source": [
    "print(\"X_train Shape: \", X_train.shape)\n",
    "print(\"X_test Shape: \", X_test.shape)"
   ]
  },
  {
   "cell_type": "code",
   "execution_count": 15,
   "metadata": {},
   "outputs": [
    {
     "name": "stdout",
     "output_type": "stream",
     "text": [
      "Y_train Shape:  1990\n",
      "Y_test Shape:  498\n"
     ]
    }
   ],
   "source": [
    "print(\"Y_train Shape: \", len(Y_train))\n",
    "print(\"Y_test Shape: \", len(Y_test))"
   ]
  },
  {
   "cell_type": "markdown",
   "metadata": {},
   "source": [
    "## Naive Bayes"
   ]
  },
  {
   "cell_type": "code",
   "execution_count": 18,
   "metadata": {},
   "outputs": [],
   "source": [
    "from sklearn.naive_bayes import GaussianNB"
   ]
  },
  {
   "cell_type": "code",
   "execution_count": 19,
   "metadata": {},
   "outputs": [
    {
     "data": {
      "text/plain": [
       "GaussianNB(priors=None, var_smoothing=1e-09)"
      ]
     },
     "execution_count": 19,
     "metadata": {},
     "output_type": "execute_result"
    }
   ],
   "source": [
    "classifier = GaussianNB()\n",
    "classifier.fit(X_train, Y_train) "
   ]
  },
  {
   "cell_type": "markdown",
   "metadata": {},
   "source": [
    "## Evaluate Model"
   ]
  },
  {
   "cell_type": "code",
   "execution_count": 20,
   "metadata": {},
   "outputs": [],
   "source": [
    "from sklearn.metrics import classification_report, confusion_matrix, accuracy_score"
   ]
  },
  {
   "cell_type": "code",
   "execution_count": 21,
   "metadata": {},
   "outputs": [],
   "source": [
    "Y_pred = classifier.predict(X_test)"
   ]
  },
  {
   "cell_type": "markdown",
   "metadata": {},
   "source": [
    "### Confusion Matrix"
   ]
  },
  {
   "cell_type": "code",
   "execution_count": 22,
   "metadata": {},
   "outputs": [
    {
     "name": "stdout",
     "output_type": "stream",
     "text": [
      "[[343  72  61]\n",
      " [ 16   4   2]\n",
      " [  0   0   0]]\n"
     ]
    }
   ],
   "source": [
    "print(confusion_matrix(Y_test, Y_pred))"
   ]
  },
  {
   "cell_type": "markdown",
   "metadata": {},
   "source": [
    "### Classification Report"
   ]
  },
  {
   "cell_type": "code",
   "execution_count": 23,
   "metadata": {},
   "outputs": [
    {
     "name": "stdout",
     "output_type": "stream",
     "text": [
      "              precision    recall  f1-score   support\n",
      "\n",
      "         0.0       0.96      0.72      0.82       476\n",
      "         1.0       0.05      0.18      0.08        22\n",
      "        11.0       0.00      0.00      0.00         0\n",
      "\n",
      "    accuracy                           0.70       498\n",
      "   macro avg       0.34      0.30      0.30       498\n",
      "weighted avg       0.92      0.70      0.79       498\n",
      "\n"
     ]
    },
    {
     "name": "stderr",
     "output_type": "stream",
     "text": [
      "/home/biruk/miniconda3/envs/amharic-hate-speech-detector/lib/python3.8/site-packages/sklearn/metrics/_classification.py:1272: UndefinedMetricWarning: Recall and F-score are ill-defined and being set to 0.0 in labels with no true samples. Use `zero_division` parameter to control this behavior.\n",
      "  _warn_prf(average, modifier, msg_start, len(result))\n"
     ]
    }
   ],
   "source": [
    "print(classification_report(Y_test, Y_pred))"
   ]
  },
  {
   "cell_type": "markdown",
   "metadata": {},
   "source": [
    "### Accuracy Score"
   ]
  },
  {
   "cell_type": "code",
   "execution_count": 24,
   "metadata": {},
   "outputs": [
    {
     "name": "stdout",
     "output_type": "stream",
     "text": [
      "0.6967871485943775\n"
     ]
    }
   ],
   "source": [
    "print(accuracy_score(Y_test, Y_pred))"
   ]
  },
  {
   "cell_type": "code",
   "execution_count": null,
   "metadata": {},
   "outputs": [],
   "source": []
  }
 ],
 "metadata": {
  "kernelspec": {
   "display_name": "Python 3",
   "language": "python",
   "name": "python3"
  },
  "language_info": {
   "codemirror_mode": {
    "name": "ipython",
    "version": 3
   },
   "file_extension": ".py",
   "mimetype": "text/x-python",
   "name": "python",
   "nbconvert_exporter": "python",
   "pygments_lexer": "ipython3",
   "version": "3.8.2"
  }
 },
 "nbformat": 4,
 "nbformat_minor": 4
}
